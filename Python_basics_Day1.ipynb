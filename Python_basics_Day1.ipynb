{
  "nbformat": 4,
  "nbformat_minor": 0,
  "metadata": {
    "colab": {
      "provenance": [],
      "include_colab_link": true
    },
    "kernelspec": {
      "name": "python3",
      "display_name": "Python 3"
    },
    "language_info": {
      "name": "python"
    }
  },
  "cells": [
    {
      "cell_type": "markdown",
      "metadata": {
        "id": "view-in-github",
        "colab_type": "text"
      },
      "source": [
        "<a href=\"https://colab.research.google.com/github/Vijayreddyalla/Vijay55/blob/main/Python_basics_Day1.ipynb\" target=\"_parent\"><img src=\"https://colab.research.google.com/assets/colab-badge.svg\" alt=\"Open In Colab\"/></a>"
      ]
    },
    {
      "cell_type": "markdown",
      "source": [
        "\n",
        "Declare a variable called \"aid\" and asign a value as your name then print the name like \"Kiet\"\n",
        "---\n",
        "\n"
      ],
      "metadata": {
        "id": "2UrXUibXpdQn"
      }
    },
    {
      "cell_type": "code",
      "source": [
        "#write your code here\n",
        "\n",
        "aid=\"kiet\"\n",
        "print(aid)"
      ],
      "metadata": {
        "id": "-MFfUJNJp5wY",
        "colab": {
          "base_uri": "https://localhost:8080/"
        },
        "outputId": "84b3c7d8-1ee9-4b96-c119-efc5469a2872"
      },
      "execution_count": null,
      "outputs": [
        {
          "output_type": "stream",
          "name": "stdout",
          "text": [
            "kiet\n"
          ]
        }
      ]
    },
    {
      "cell_type": "markdown",
      "source": [
        " declare a value to the valrable then print the type of value"
      ],
      "metadata": {
        "id": "b9GaqLWgqBOW"
      }
    },
    {
      "cell_type": "code",
      "source": [
        "#write your code here\n",
        "\n",
        "a=\"3425\"\n",
        "print(type(a))"
      ],
      "metadata": {
        "id": "P_U7hv3VqaCM",
        "colab": {
          "base_uri": "https://localhost:8080/"
        },
        "outputId": "00e1edc8-6bb3-4c92-b214-d294006df507"
      },
      "execution_count": null,
      "outputs": [
        {
          "output_type": "stream",
          "name": "stdout",
          "text": [
            "<class 'str'>\n"
          ]
        }
      ]
    },
    {
      "cell_type": "markdown",
      "source": [
        "Write a python code using Format Method and \"fstrings\""
      ],
      "metadata": {
        "id": "qALPtb9iqdah"
      }
    },
    {
      "cell_type": "code",
      "source": [
        "#write your code here\n",
        "\n",
        "a=\"Seshu\"\n",
        "b=\"CAI\"\n",
        "print(f\"I am {a} from {b} branch.\")"
      ],
      "metadata": {
        "id": "GybmaiaiqzQv",
        "colab": {
          "base_uri": "https://localhost:8080/"
        },
        "outputId": "5408c3d6-9549-4b2b-a023-cdccb064885f"
      },
      "execution_count": null,
      "outputs": [
        {
          "output_type": "stream",
          "name": "stdout",
          "text": [
            "I am Seshu from CAI branch.\n"
          ]
        }
      ]
    },
    {
      "cell_type": "markdown",
      "source": [
        "Write a python code using .join() method\n",
        "\n",
        "Input format:\n",
        "kiet\n",
        "Output format:\n",
        "kkiet"
      ],
      "metadata": {
        "id": "WnitQ77GpcWQ"
      }
    },
    {
      "cell_type": "code",
      "source": [
        "#write your code here\n",
        "\n",
        "x = \"kiet\"\n",
        "y = list(x)\n",
        "y.insert(0,'k')\n",
        "z =''.join(y)\n",
        "\n",
        "print(z)"
      ],
      "metadata": {
        "id": "zmQ2Y2wjrY7-",
        "colab": {
          "base_uri": "https://localhost:8080/"
        },
        "outputId": "61ac0014-0922-4cbf-a16c-340cbe928526"
      },
      "execution_count": null,
      "outputs": [
        {
          "output_type": "stream",
          "name": "stdout",
          "text": [
            "kkiet\n"
          ]
        }
      ]
    },
    {
      "cell_type": "markdown",
      "source": [
        "Write a python code for checking whether the person is eligible for  Vote or Not  using conditionals"
      ],
      "metadata": {
        "id": "xzP0JMI5rWQ9"
      }
    },
    {
      "cell_type": "code",
      "source": [
        "#write your code here\n",
        "\n",
        "a=int(input(\"Enter the Age : \"))\n",
        "if (a>=18):\n",
        "  print(\"Eligible for vote.\")\n",
        "else:\n",
        "  print(\"Not eligible for vote.\")"
      ],
      "metadata": {
        "id": "JEb5o1NTrz7V",
        "colab": {
          "base_uri": "https://localhost:8080/"
        },
        "outputId": "ef83c401-c86f-40ce-fddf-c02d07449ee4"
      },
      "execution_count": null,
      "outputs": [
        {
          "output_type": "stream",
          "name": "stdout",
          "text": [
            "Enter the Age : 22\n",
            "Eligible for vote.\n"
          ]
        }
      ]
    },
    {
      "cell_type": "markdown",
      "source": [
        "write simple codes using string methods:\n"
      ],
      "metadata": {
        "id": "KDH6s5xkr1L1"
      }
    },
    {
      "cell_type": "code",
      "source": [
        "#any 10 methods\n",
        "#write your code here\n",
        "\n",
        "\n",
        "#01\n",
        "a = \"Hello, World!\"\n",
        "b = a.casefold()\n",
        "print(b)\n",
        "\n",
        "#02\n",
        "a = \"Hello, World!\"\n",
        "b = a.upper()\n",
        "print(b)\n",
        "\n",
        "\n",
        "#03\n",
        "a = \"HELLO WORLD\"\n",
        "b = a.lower()\n",
        "print(b)\n",
        "\n",
        "\n",
        "#04\n",
        "a = \"Hello11\"\n",
        "b = a.isalnum()\n",
        "print(b)\n",
        "\n",
        "\n",
        "#05\n",
        "a = \"Hello, World!\"\n",
        "b = a.isalpha()\n",
        "print(b)\n",
        "\n",
        "\n",
        "#06\n",
        "a = \"89\"\n",
        "b = a.isalnum()\n",
        "print(b)\n",
        "\n",
        "\n",
        "#07\n",
        "a = \"222\"\n",
        "b = a.isdecimal()\n",
        "print(b)\n",
        "\n",
        "\n",
        "#08\n",
        "a=\"hello world\"\n",
        "print(a.capitalize())\n",
        "\n",
        "#09\n",
        "a=\"Hello Wrld\"\n",
        "b = a.split()\n",
        "print(b)\n",
        "\n",
        "# 10\n",
        "a = \"     Hello, World!     \"\n",
        "b = a.strip()\n",
        "print(b)"
      ],
      "metadata": {
        "id": "UiMrtWMPsagV",
        "colab": {
          "base_uri": "https://localhost:8080/"
        },
        "outputId": "121c52eb-6630-43e6-cb7f-ff9fbef59abd"
      },
      "execution_count": null,
      "outputs": [
        {
          "output_type": "stream",
          "name": "stdout",
          "text": [
            "hello, world!\n",
            "HELLO, WORLD!\n",
            "hello world\n",
            "True\n",
            "False\n",
            "True\n",
            "True\n",
            "Hello world\n",
            "['Hello', 'Wrld']\n",
            "Hello, World!\n"
          ]
        }
      ]
    },
    {
      "cell_type": "markdown",
      "source": [
        "#DEBUGGING"
      ],
      "metadata": {
        "id": "X4b8OXNish-E"
      }
    },
    {
      "cell_type": "code",
      "source": [
        "a=\"kiek\"\n",
        "b=\"kiet\"\n",
        "print(\"both {} and {} are in same campus\".format(a,b))\n",
        "#output should be like this\n",
        "#both kiet and kiek are in same campus"
      ],
      "metadata": {
        "colab": {
          "base_uri": "https://localhost:8080/"
        },
        "id": "eArmRQ2Xsg4b",
        "outputId": "84ff11dc-fee6-47ae-c796-219136852278"
      },
      "execution_count": null,
      "outputs": [
        {
          "output_type": "stream",
          "name": "stdout",
          "text": [
            "both kiek and kiet are in same campus\n"
          ]
        }
      ]
    },
    {
      "cell_type": "code",
      "source": [
        "a=\"kiet\"\n",
        "b=\"kiek\"\n",
        "print(\"both {} and {} are in same campus\".format(a,b))\n",
        "#both kiet and kiek are in same campus\n",
        "#correct the output"
      ],
      "metadata": {
        "colab": {
          "base_uri": "https://localhost:8080/"
        },
        "id": "NTSKMEAftLde",
        "outputId": "8982d022-bbc8-40c6-f29b-2290990deccd"
      },
      "execution_count": null,
      "outputs": [
        {
          "output_type": "stream",
          "name": "stdout",
          "text": [
            "both kiet and kiek are in same campus\n"
          ]
        }
      ]
    },
    {
      "cell_type": "code",
      "source": [
        "a=5\n",
        "b=12\n",
        "if a==5 and b==12:\n",
        "  print(a,b)\n",
        "# correct the code"
      ],
      "metadata": {
        "colab": {
          "base_uri": "https://localhost:8080/"
        },
        "id": "1Kl6TiW5t85r",
        "outputId": "dce5c435-3306-43a1-c03a-43b7ca8d952c"
      },
      "execution_count": null,
      "outputs": [
        {
          "output_type": "stream",
          "name": "stdout",
          "text": [
            "5 12\n"
          ]
        }
      ]
    },
    {
      "cell_type": "code",
      "source": [
        "if a%2==0:\n",
        "   print(\"a is divisible by 2\")\n",
        "\n",
        "else:\n",
        "    print(\"not divisible\")"
      ],
      "metadata": {
        "id": "HZn24oUpucy8",
        "colab": {
          "base_uri": "https://localhost:8080/"
        },
        "outputId": "04de6abf-6838-4315-cebb-c5d7241437af"
      },
      "execution_count": null,
      "outputs": [
        {
          "output_type": "stream",
          "name": "stdout",
          "text": [
            "not divisible\n"
          ]
        }
      ]
    }
  ]
}